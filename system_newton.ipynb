{
  "nbformat": 4,
  "nbformat_minor": 0,
  "metadata": {
    "colab": {
      "provenance": [],
      "collapsed_sections": [],
      "authorship_tag": "ABX9TyNi7DWcJlR06EfOuypl34Zn",
      "include_colab_link": true
    },
    "kernelspec": {
      "name": "python3",
      "display_name": "Python 3"
    }
  },
  "cells": [
    {
      "cell_type": "markdown",
      "metadata": {
        "id": "view-in-github",
        "colab_type": "text"
      },
      "source": [
        "<a href=\"https://colab.research.google.com/github/Sunflower47/-Junior-Data-Analyst/blob/main/system_newton.ipynb\" target=\"_parent\"><img src=\"https://colab.research.google.com/assets/colab-badge.svg\" alt=\"Open In Colab\"/></a>"
      ]
    },
    {
      "cell_type": "markdown",
      "source": [
        "#Задание"
      ],
      "metadata": {
        "id": "BDCDz0TQR5hs"
      }
    },
    {
      "cell_type": "markdown",
      "source": [
        "Реализовать алгоритм ньютона для системы уравнений"
      ],
      "metadata": {
        "id": "G7qHj8wPR7oM"
      }
    },
    {
      "cell_type": "markdown",
      "source": [
        "#Код"
      ],
      "metadata": {
        "id": "3a4wr0xFR_NU"
      }
    },
    {
      "cell_type": "markdown",
      "source": [
        "##Импорт библиотек"
      ],
      "metadata": {
        "id": "cECE7JFPSAhf"
      }
    },
    {
      "cell_type": "code",
      "metadata": {
        "id": "LXiUMqB9M-8W"
      },
      "source": [
        "import numpy as np\n",
        "import matplotlib.pyplot as plt\n",
        "import math"
      ],
      "execution_count": null,
      "outputs": []
    },
    {
      "cell_type": "markdown",
      "source": [
        "##Задание функций"
      ],
      "metadata": {
        "id": "icTuXoU8SC7k"
      }
    },
    {
      "cell_type": "code",
      "metadata": {
        "id": "UY9YdOWPNBDB"
      },
      "source": [
        "def function1(x):\n",
        "  x1, x2 = x[0], x[1]\n",
        "  return x1**2 -2*x2**4 + 1\n",
        "\n",
        "def function2(x):\n",
        "  x1, x2 = x[0], x[1]\n",
        "  return x1-x2**3+1\n",
        "  \n",
        "def func(x):\n",
        "  return np.array([function1(x), function2(x)])"
      ],
      "execution_count": null,
      "outputs": []
    },
    {
      "cell_type": "markdown",
      "source": [
        "##Якобиан"
      ],
      "metadata": {
        "id": "LdZ6CUQVSFKb"
      }
    },
    {
      "cell_type": "code",
      "metadata": {
        "id": "uqFhs5VDOBrS"
      },
      "source": [
        "def jacob(x):\n",
        "  x1, x2 = x[0], x[1]\n",
        "  return (1/8*x2**3-6*x1*x2**2)*np.array([[-3*x2**2, 8*x2**3], [-1, 2*x1]])\n"
      ],
      "execution_count": null,
      "outputs": []
    },
    {
      "cell_type": "markdown",
      "source": [
        "##Задание начальных приближений"
      ],
      "metadata": {
        "id": "NRNs_xzqSafB"
      }
    },
    {
      "cell_type": "code",
      "metadata": {
        "colab": {
          "base_uri": "https://localhost:8080/"
        },
        "id": "18KBzTk-IMvn",
        "outputId": "6b2bc4db-a219-4340-f0c9-1f0c16c33752"
      },
      "source": [
        "x = np.array([1.0, 1.0])\n",
        "a = np.array([0, 0])\n",
        "while np.linalg.norm(func(x) - a, ord=2) >= 10**-10:\n",
        "  x = x - np.linalg.inv(jacob(np.array([1.0, 1.0])))@func(x)\n",
        "\n",
        "print(x)\n",
        "print(function1(x))\n",
        "print(function2(x))"
      ],
      "execution_count": null,
      "outputs": [
        {
          "output_type": "stream",
          "text": [
            "[-0.35119943  0.86570596]\n",
            "8.788636485235202e-11\n",
            "1.6741386055230123e-11\n"
          ],
          "name": "stdout"
        }
      ]
    },
    {
      "cell_type": "markdown",
      "source": [
        "##Реализация алгоритма"
      ],
      "metadata": {
        "id": "_EiUx_b6SdH8"
      }
    },
    {
      "cell_type": "code",
      "metadata": {
        "colab": {
          "base_uri": "https://localhost:8080/",
          "height": 282
        },
        "id": "6SGBaVRv-I4d",
        "outputId": "eb586bf8-4720-40d0-9abd-6ad2dbf81c49"
      },
      "source": [
        "y = x\n",
        "x = np.array([1.0, 1.0])\n",
        "a = np.array([0, 0])\n",
        "i = 0\n",
        "z = []\n",
        "k = []\n",
        "while np.linalg.norm(func(x) - a, ord=2) >= 10**-10:\n",
        "  x = x - np.linalg.inv(jacob(np.array([1.0, 1.0])))@func(x)\n",
        "  i += 1\n",
        "  z.append(i)\n",
        "  k.append(np.linalg.norm(func(x) - func(y), ord=2))\n",
        "\n",
        "plt.plot(z, k)"
      ],
      "execution_count": null,
      "outputs": [
        {
          "output_type": "execute_result",
          "data": {
            "text/plain": [
              "[<matplotlib.lines.Line2D at 0x7fc5e38bb1d0>]"
            ]
          },
          "metadata": {
            "tags": []
          },
          "execution_count": 65
        },
        {
          "output_type": "display_data",
          "data": {
            "image/png": "[encoded data removed]",
            "text/plain": [
              "<Figure size 432x288 with 1 Axes>"
            ]
          },
          "metadata": {
            "tags": [],
            "needs_background": "light"
          }
        }
      ]
    }
  ]
}